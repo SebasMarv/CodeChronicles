{
 "cells": [
  {
   "cell_type": "markdown",
   "metadata": {},
   "source": [
    "## Descarga de playlist de Youtube"
   ]
  },
  {
   "cell_type": "markdown",
   "metadata": {},
   "source": [
    "***"
   ]
  },
  {
   "cell_type": "markdown",
   "metadata": {},
   "source": [
    "### Playlist\n",
    "* Java Básico: https://www.youtube.com/playlist?list=PLQxX2eiEaqbwxYrMUJ6gRz82mLzUeeJy9 ☑️\n",
    "* POO Java: https://www.youtube.com/playlist?list=PLQxX2eiEaqbwNP20GMMCjRslRq2lOLWlg\n",
    "* Git: https://www.youtube.com/playlist?list=PLQxX2eiEaqby-qh4raiKfYyb4T7WyHsfW ☑️\n",
    "* Python: https://www.youtube.com/playlist?list=PLU8oAlHdN5BlvPxziopYZRd55pdqFwkeS\n",
    "* Ingles: https://www.youtube.com/watch?v=bpMELj9caNY&list=PL46G4t0fsnaJXK_SfaWdxHThKuvgCOnAZ"
   ]
  },
  {
   "cell_type": "markdown",
   "metadata": {},
   "source": [
    "***"
   ]
  },
  {
   "cell_type": "code",
   "execution_count": 20,
   "metadata": {},
   "outputs": [],
   "source": [
    "from pytube import Playlist, YouTube\n",
    "import os\n",
    "import re\n",
    "\n",
    "def validar_nombre_archivo(nombre):\n",
    "    # Remover caracteres no válidos\n",
    "    nombre_valido = re.sub(r'[^\\\\.0-9a-zA-Z\\s\\-_\\(\\)]', '', nombre)\n",
    "    \n",
    "    # Reemplazar espacios por guiones bajos\n",
    "    nombre_valido = nombre_valido.replace(' ', '_')\n",
    "    \n",
    "    return nombre_valido\n",
    "\n",
    "# URL de la playlist de YouTube\n",
    "playlist_url = \"https://www.youtube.com/playlist?list=PLQxX2eiEaqbwNP20GMMCjRslRq2lOLWlg\"\n",
    "\n",
    "# Crear la carpeta \"data\" si no existe\n",
    "carpeta_descargas = \"data\"\n",
    "ruta_carpeta_descargas = os.path.join(os.getcwd(), carpeta_descargas)\n",
    "if not os.path.exists(ruta_carpeta_descargas):\n",
    "    os.makedirs(ruta_carpeta_descargas)\n",
    "\n",
    "# Obtener la playlist\n",
    "playlist = Playlist(playlist_url)\n",
    "\n",
    "# Crear una carpeta con el nombre de la playlist dentro de \"data\"\n",
    "nombre_playlist = validar_nombre_archivo(playlist.title)\n",
    "ruta_playlist = os.path.join(ruta_carpeta_descargas, nombre_playlist)\n",
    "os.makedirs(ruta_playlist, exist_ok=True)\n",
    "\n",
    "# Iterar sobre los videos de la playlist\n",
    "contador = 1\n",
    "for video in playlist.videos:\n",
    "    # Obtener el video\n",
    "    yt = YouTube(video.watch_url)\n",
    "\n",
    "    # Buscar el stream con resolución 1080p o la más alta disponible\n",
    "    stream = yt.streams.filter(progressive=True, file_extension='mp4').order_by('resolution').desc().first()\n",
    "    if stream.resolution is not None and int(stream.resolution.strip('p')) >= 1080:\n",
    "        print(f\"Descargando video '{video.title}' en resolución {stream.resolution}\")\n",
    "    else:\n",
    "        print(f\"Descargando video '{video.title}' en la resolución más alta disponible ({stream.resolution})\")\n",
    "\n",
    "    # Si no hay streams de video disponibles, continuar con el siguiente video\n",
    "    if not stream:\n",
    "        contador += 1\n",
    "        continue\n",
    "\n",
    "    # Validar el nombre del archivo\n",
    "    nombre_archivo = f\"{contador}. {validar_nombre_archivo(video.title)}\"\n",
    "\n",
    "    # Descargar el video en la carpeta de la playlist\n",
    "    ruta_descarga = os.path.join(ruta_playlist, f\"{nombre_archivo}.mp4\")\n",
    "    stream.download(output_path=ruta_playlist, filename=f\"{nombre_archivo}.mp4\")\n",
    "    print(f\"Video '{video.title}' descargado correctamente.\")\n",
    "    \n",
    "    contador += 1"
   ]
  },
  {
   "cell_type": "code",
   "execution_count": 1,
   "metadata": {},
   "outputs": [
    {
     "name": "stdout",
     "output_type": "stream",
     "text": [
      "Check Website: https://login-old.b2miningdata.com/\n"
     ]
    },
    {
     "name": "stderr",
     "output_type": "stream",
     "text": [
      "d:\\Users\\USER\\AppData\\Local\\Programs\\Python\\Python311\\Lib\\site-packages\\urllib3\\connectionpool.py:1061: InsecureRequestWarning: Unverified HTTPS request is being made to host 'login-old.b2miningdata.com'. Adding certificate verification is strongly advised. See: https://urllib3.readthedocs.io/en/1.26.x/advanced-usage.html#ssl-warnings\n",
      "  warnings.warn(\n"
     ]
    },
    {
     "name": "stdout",
     "output_type": "stream",
     "text": [
      "\u001b[32mLa página está cargando correctamente. Tiempo de carga: 0.48 segundos.\u001b[0m\n",
      "Check Website: https://b2miningdata.com/ui/login\n"
     ]
    },
    {
     "name": "stderr",
     "output_type": "stream",
     "text": [
      "d:\\Users\\USER\\AppData\\Local\\Programs\\Python\\Python311\\Lib\\site-packages\\urllib3\\connectionpool.py:1061: InsecureRequestWarning: Unverified HTTPS request is being made to host 'b2miningdata.com'. Adding certificate verification is strongly advised. See: https://urllib3.readthedocs.io/en/1.26.x/advanced-usage.html#ssl-warnings\n",
      "  warnings.warn(\n"
     ]
    },
    {
     "name": "stdout",
     "output_type": "stream",
     "text": [
      "\u001b[32mLa página está cargando correctamente. Tiempo de carga: 0.62 segundos.\u001b[0m\n",
      "Check Website: https://ebiz.pe/\n"
     ]
    },
    {
     "name": "stderr",
     "output_type": "stream",
     "text": [
      "d:\\Users\\USER\\AppData\\Local\\Programs\\Python\\Python311\\Lib\\site-packages\\urllib3\\connectionpool.py:1061: InsecureRequestWarning: Unverified HTTPS request is being made to host 'ebiz.pe'. Adding certificate verification is strongly advised. See: https://urllib3.readthedocs.io/en/1.26.x/advanced-usage.html#ssl-warnings\n",
      "  warnings.warn(\n"
     ]
    },
    {
     "name": "stdout",
     "output_type": "stream",
     "text": [
      "\u001b[32mLa página está cargando correctamente. Tiempo de carga: 2.71 segundos.\u001b[0m\n"
     ]
    }
   ],
   "source": [
    "import requests\n",
    "from colorama import Fore, Style\n",
    "import time\n",
    "\n",
    "# url = \"https://b2miningdata.com/ui/login\"\n",
    "timeout_seconds = 7\n",
    "\n",
    "def check_website(url):\n",
    "    print(f\"Check Website: {url}\")\n",
    "    try:\n",
    "        start_time = time.time()\n",
    "        response = requests.get(url, timeout=timeout_seconds, verify=False)\n",
    "        end_time = time.time()\n",
    "        load_time = end_time - start_time\n",
    "\n",
    "        if response.status_code == 200: \n",
    "            if load_time < timeout_seconds:\n",
    "                print(Fore.GREEN + \"La página está cargando correctamente. Tiempo de carga: {:.2f} segundos.\".format(load_time) + Style.RESET_ALL)\n",
    "            else:\n",
    "                print(Fore.YELLOW + \"La página está cargando, pero con un poco de retraso. Tiempo de carga: {:.2f} segundos.\".format(load_time) + Style.RESET_ALL)\n",
    "        else:\n",
    "            print(Fore.RED + \"La página no está cargando correctamente. Código de estado: \" + str(response.status_code) + Style.RESET_ALL)\n",
    "    except requests.exceptions.RequestException as e:\n",
    "        print(Fore.RED + \"Error al intentar cargar la página: \" + str(e) + Style.RESET_ALL)\n",
    "    except requests.exceptions.Timeout:\n",
    "        print(Fore.RED + \"Tiempo de espera agotado al intentar cargar la página.\" + Style.RESET_ALL)\n",
    "\n",
    "\n",
    "check_website(\"https://login-old.b2miningdata.com/\") # B2M 2.0\n",
    "check_website(\"https://b2miningdata.com/ui/login\") # B2M 3.0\n",
    "check_website(\"https://ebiz.pe/\") # EBIZ PAGE"
   ]
  }
 ],
 "metadata": {
  "kernelspec": {
   "display_name": "Python 3",
   "language": "python",
   "name": "python3"
  },
  "language_info": {
   "codemirror_mode": {
    "name": "ipython",
    "version": 3
   },
   "file_extension": ".py",
   "mimetype": "text/x-python",
   "name": "python",
   "nbconvert_exporter": "python",
   "pygments_lexer": "ipython3",
   "version": "3.11.5"
  }
 },
 "nbformat": 4,
 "nbformat_minor": 2
}
