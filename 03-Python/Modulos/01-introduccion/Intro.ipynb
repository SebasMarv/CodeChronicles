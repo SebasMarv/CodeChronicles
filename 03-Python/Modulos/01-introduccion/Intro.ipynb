{
 "cells": [
  {
   "cell_type": "markdown",
   "metadata": {},
   "source": [
    "# Video 1: ¿Qué es Python y por qué es popular?\n",
    "\n",
    "## ¿Qué es Python?\n",
    "- **Lenguaje de Programación de Alto Nivel**\n",
    "- Creado por **Guido van Rossum**\n",
    "- Características: **Interpretado, Multiplataforma, Tipado Dinámico**\n",
    "\n",
    "## Ventajas de Python\n",
    "- **Sintaxis Simple y Legible**: Ideal para principiantes.\n",
    "- **Amplia Comunidad y Soporte**: Abundancia de recursos y tutoriales.\n",
    "- **Versátil**: Aplicaciones en desarrollo web, ciencia de datos, IA, automatización, etc.\n",
    "\n",
    "## Popularidad de Python\n",
    "- Altamente popular según índices como **TIOBE, Stack Overflow**.\n",
    "- Utilizado por empresas líderes como **Google, Netflix, Spotify**.\n"
   ]
  },
  {
   "cell_type": "code",
   "execution_count": 1,
   "metadata": {},
   "outputs": [
    {
     "name": "stdout",
     "output_type": "stream",
     "text": [
      "Hola Mundo\n"
     ]
    }
   ],
   "source": [
    "print(\"Hola Mundo\")"
   ]
  }
 ],
 "metadata": {
  "kernelspec": {
   "display_name": "Python 3",
   "language": "python",
   "name": "python3"
  },
  "language_info": {
   "codemirror_mode": {
    "name": "ipython",
    "version": 3
   },
   "file_extension": ".py",
   "mimetype": "text/x-python",
   "name": "python",
   "nbconvert_exporter": "python",
   "pygments_lexer": "ipython3",
   "version": "3.11.5"
  }
 },
 "nbformat": 4,
 "nbformat_minor": 2
}
